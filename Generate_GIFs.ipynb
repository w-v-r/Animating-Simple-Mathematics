{
 "cells": [
  {
   "cell_type": "markdown",
   "metadata": {
    "ExecuteTime": {
     "end_time": "2021-06-21T13:30:53.712228Z",
     "start_time": "2021-06-21T13:30:53.685814Z"
    }
   },
   "source": [
    "# Turning Images into GIFs"
   ]
  },
  {
   "cell_type": "code",
   "execution_count": 1,
   "metadata": {
    "ExecuteTime": {
     "end_time": "2021-06-21T15:21:46.371521Z",
     "start_time": "2021-06-21T15:21:45.801569Z"
    }
   },
   "outputs": [],
   "source": [
    "import imageio\n",
    "import os\n",
    "import sys"
   ]
  },
  {
   "cell_type": "code",
   "execution_count": 8,
   "metadata": {
    "ExecuteTime": {
     "end_time": "2021-06-21T15:23:15.995515Z",
     "start_time": "2021-06-21T15:23:15.991416Z"
    }
   },
   "outputs": [
    {
     "data": {
      "text/plain": [
       "'/Users/williamryan/Desktop/Animating Simple Mathematics/Notebooks'"
      ]
     },
     "execution_count": 8,
     "metadata": {},
     "output_type": "execute_result"
    }
   ],
   "source": [
    "sys.path[0]"
   ]
  },
  {
   "cell_type": "code",
   "execution_count": 14,
   "metadata": {
    "ExecuteTime": {
     "end_time": "2021-06-21T15:20:12.572949Z",
     "start_time": "2021-06-21T15:20:08.988457Z"
    }
   },
   "outputs": [],
   "source": [
    "FOLDERS = [\"Multiply Frames - 100 pixels\",\n",
    "           \"Addition Frames - 100 pixels\",\n",
    "           \"Exponent Frames - 10000 pixels\"]\n",
    "\n",
    "PATHS = []\n",
    "\n",
    "for FOLDER_NAME in FOLDERS:\n",
    "\n",
    "    directory = sys.path[0] + \"/Frames/\" + FOLDER_NAME\n",
    "\n",
    "    FILENAMES = []\n",
    "    for filename in os.listdir(directory):\n",
    "        ID = int(filename.split(\".\")[0])\n",
    "        #print(ID)\n",
    "        FILENAMES.append((filename, ID))\n",
    "        \n",
    "    FILENAMES = sorted(FILENAMES, key=lambda xy :xy[1], reverse=False)\n",
    "    FILENAMES_reverse = sorted(FILENAMES, key=lambda xy :xy[1], reverse=True)\n",
    "    \n",
    "    images = []\n",
    "    for F in FILENAMES:\n",
    "        file_path = directory + '/' + F[0]\n",
    "        #print(file_path)\n",
    "        images.append(imageio.imread(file_path))\n",
    "\n",
    "    for F in FILENAMES_reverse:\n",
    "        file_path = directory + '/' + F[0]\n",
    "        #print(file_path)\n",
    "        images.append(imageio.imread(file_path)) \n",
    "        \n",
    "    name = FOLDER_NAME + '.gif'\n",
    "    \n",
    "    path = 'GIFs/' + name\n",
    "\n",
    "    imageio.mimsave(path, images, fps=10)\n",
    "    \n",
    "    PATHS.append(path)\n",
    "        "
   ]
  },
  {
   "cell_type": "code",
   "execution_count": 15,
   "metadata": {
    "ExecuteTime": {
     "end_time": "2021-06-21T15:20:13.126060Z",
     "start_time": "2021-06-21T15:20:13.122897Z"
    }
   },
   "outputs": [],
   "source": [
    "name1 = PATHS[0]\n",
    "name2 = PATHS[1]\n",
    "name3 = PATHS[2]"
   ]
  },
  {
   "cell_type": "code",
   "execution_count": 16,
   "metadata": {
    "ExecuteTime": {
     "end_time": "2021-06-21T15:20:13.780248Z",
     "start_time": "2021-06-21T15:20:13.775987Z"
    }
   },
   "outputs": [
    {
     "data": {
      "text/html": [
       "<img src=\"GIFs/Multiply Frames - 100 pixels.gif\"/>"
      ],
      "text/plain": [
       "<IPython.core.display.Image object>"
      ]
     },
     "execution_count": 16,
     "metadata": {},
     "output_type": "execute_result"
    }
   ],
   "source": [
    "from IPython.display import Image\n",
    "Image(url=name1)"
   ]
  },
  {
   "cell_type": "code",
   "execution_count": 17,
   "metadata": {
    "ExecuteTime": {
     "end_time": "2021-06-21T15:20:15.575643Z",
     "start_time": "2021-06-21T15:20:15.571164Z"
    }
   },
   "outputs": [
    {
     "data": {
      "text/html": [
       "<img src=\"GIFs/Addition Frames - 100 pixels.gif\"/>"
      ],
      "text/plain": [
       "<IPython.core.display.Image object>"
      ]
     },
     "execution_count": 17,
     "metadata": {},
     "output_type": "execute_result"
    }
   ],
   "source": [
    "Image(url=name2)"
   ]
  },
  {
   "cell_type": "code",
   "execution_count": 18,
   "metadata": {
    "ExecuteTime": {
     "end_time": "2021-06-21T15:20:16.023301Z",
     "start_time": "2021-06-21T15:20:16.019077Z"
    }
   },
   "outputs": [
    {
     "data": {
      "text/html": [
       "<img src=\"GIFs/Exponent Frames - 10000 pixels.gif\"/>"
      ],
      "text/plain": [
       "<IPython.core.display.Image object>"
      ]
     },
     "execution_count": 18,
     "metadata": {},
     "output_type": "execute_result"
    }
   ],
   "source": [
    "Image(url=name3)"
   ]
  },
  {
   "cell_type": "code",
   "execution_count": null,
   "metadata": {},
   "outputs": [],
   "source": []
  }
 ],
 "metadata": {
  "kernelspec": {
   "display_name": "Python 3",
   "language": "python",
   "name": "python3"
  },
  "language_info": {
   "codemirror_mode": {
    "name": "ipython",
    "version": 3
   },
   "file_extension": ".py",
   "mimetype": "text/x-python",
   "name": "python",
   "nbconvert_exporter": "python",
   "pygments_lexer": "ipython3",
   "version": "3.7.4"
  },
  "toc": {
   "base_numbering": 1,
   "nav_menu": {},
   "number_sections": true,
   "sideBar": true,
   "skip_h1_title": false,
   "title_cell": "Table of Contents",
   "title_sidebar": "Contents",
   "toc_cell": false,
   "toc_position": {},
   "toc_section_display": true,
   "toc_window_display": false
  }
 },
 "nbformat": 4,
 "nbformat_minor": 2
}
